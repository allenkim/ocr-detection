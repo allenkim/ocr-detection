{
 "cells": [
  {
   "cell_type": "code",
   "execution_count": 82,
   "id": "18a83136",
   "metadata": {},
   "outputs": [],
   "source": [
    "import pickle\n",
    "import numpy as np\n",
    "import pandas as pd\n",
    "import matplotlib.pyplot as plt\n",
    "from tqdm import tqdm\n",
    "from scipy.special import softmax"
   ]
  },
  {
   "cell_type": "code",
   "execution_count": 2,
   "id": "56913fc3",
   "metadata": {},
   "outputs": [],
   "source": [
    "with open('results.pkl', 'rb') as f:\n",
    "    results = pickle.load(f)"
   ]
  },
  {
   "cell_type": "code",
   "execution_count": 53,
   "id": "66d80f4c",
   "metadata": {},
   "outputs": [],
   "source": [
    "def score_probs(probs):\n",
    "    end_idx = np.where(np.argmax(probs,-1)==1)[0][0]\n",
    "    real_probs = np.max(softmax(probs[:end_idx],-1), -1)\n",
    "    return min(real_probs)"
   ]
  },
  {
   "cell_type": "code",
   "execution_count": 55,
   "id": "88af6f17",
   "metadata": {},
   "outputs": [],
   "source": [
    "scores = []\n",
    "for result in results:\n",
    "    scores.append(score_probs(result[4]))"
   ]
  },
  {
   "cell_type": "code",
   "execution_count": 63,
   "id": "d8cb8e07",
   "metadata": {},
   "outputs": [],
   "source": [
    "df = pd.DataFrame([x[:4] for x in results], columns=['hid', 'sent', 'corr', 'gen'])"
   ]
  },
  {
   "cell_type": "code",
   "execution_count": 65,
   "id": "e7f27060",
   "metadata": {},
   "outputs": [],
   "source": [
    "df['score'] = scores"
   ]
  },
  {
   "cell_type": "code",
   "execution_count": 99,
   "id": "fd57c3cb",
   "metadata": {},
   "outputs": [
    {
     "data": {
      "text/plain": [
       "461"
      ]
     },
     "execution_count": 99,
     "metadata": {},
     "output_type": "execute_result"
    }
   ],
   "source": [
    "df['hid']"
   ]
  },
  {
   "cell_type": "code",
   "execution_count": 102,
   "id": "c6a177a4",
   "metadata": {},
   "outputs": [],
   "source": [
    "all_ids = list(set(list(df['hid'])))"
   ]
  },
  {
   "cell_type": "code",
   "execution_count": 71,
   "id": "63f0eaaf",
   "metadata": {},
   "outputs": [],
   "source": [
    "df['match'] = df.apply(lambda row: row['corr']==row['gen'], axis=1)"
   ]
  },
  {
   "cell_type": "code",
   "execution_count": 95,
   "id": "e656fb91",
   "metadata": {},
   "outputs": [],
   "source": [
    "x = np.arange(0,1,0.05)\n",
    "y = []\n",
    "nums = []\n",
    "for threshold in x:\n",
    "    cutoff_df = df[df['score'] > threshold]\n",
    "    num_total = len(cutoff_df)\n",
    "    num_corr = len(cutoff_df[cutoff_df['match']])\n",
    "    nums.append((num_corr, num_total))\n",
    "    y.append(num_corr / num_total)"
   ]
  },
  {
   "cell_type": "code",
   "execution_count": 97,
   "id": "e36fb4ea",
   "metadata": {},
   "outputs": [
    {
     "data": {
      "image/png": "[encoded data removed]",
      "text/plain": [
       "<Figure size 432x288 with 1 Axes>"
      ]
     },
     "metadata": {
      "needs_background": "light"
     },
     "output_type": "display_data"
    }
   ],
   "source": [
    "plt.plot(x,y)\n",
    "plt.title('OCR Correction')\n",
    "plt.ylim(0.6,1)\n",
    "plt.xlabel('Threshold')\n",
    "plt.ylabel('Precision')\n",
    "plt.show()"
   ]
  },
  {
   "cell_type": "code",
   "execution_count": 96,
   "id": "7312baea",
   "metadata": {},
   "outputs": [
    {
     "data": {
      "text/plain": [
       "[((15465, 21788), 0.7097943822287498, 0.0),\n",
       " ((15465, 21764), 0.7105770997978312, 0.05),\n",
       " ((15455, 21529), 0.7178689209902922, 0.1),\n",
       " ((15433, 21055), 0.7329850391830919, 0.15000000000000002),\n",
       " ((15390, 20471), 0.7517952225098921, 0.2),\n",
       " ((15307, 19873), 0.7702410305439541, 0.25),\n",
       " ((15214, 19234), 0.7909951128210461, 0.30000000000000004),\n",
       " ((15081, 18573), 0.8119851397189468, 0.35000000000000003),\n",
       " ((14941, 18008), 0.8296868058640604, 0.4),\n",
       " ((14797, 17456), 0.8476741521539871, 0.45),\n",
       " ((14616, 16921), 0.8637787364812954, 0.5),\n",
       " ((14399, 16393), 0.8783627157933264, 0.55),\n",
       " ((14197, 15927), 0.8913794185973504, 0.6000000000000001),\n",
       " ((13955, 15448), 0.9033531848783014, 0.65),\n",
       " ((13726, 15023), 0.9136657125740532, 0.7000000000000001),\n",
       " ((13495, 14603), 0.924125179757584, 0.75),\n",
       " ((13216, 14167), 0.9328721677137009, 0.8),\n",
       " ((12834, 13637), 0.9411160812495417, 0.8500000000000001),\n",
       " ((12290, 12899), 0.9527870377548647, 0.9),\n",
       " ((11386, 11809), 0.9641798628164959, 0.9500000000000001)]"
      ]
     },
     "execution_count": 96,
     "metadata": {},
     "output_type": "execute_result"
    }
   ],
   "source": [
    "list(zip(nums, y, x))"
   ]
  },
  {
   "cell_type": "code",
   "execution_count": 130,
   "id": "79e50b94",
   "metadata": {},
   "outputs": [
    {
     "data": {
      "text/html": [
       "<div>\n",
       "<style scoped>\n",
       "    .dataframe tbody tr th:only-of-type {\n",
       "        vertical-align: middle;\n",
       "    }\n",
       "\n",
       "    .dataframe tbody tr th {\n",
       "        vertical-align: top;\n",
       "    }\n",
       "\n",
       "    .dataframe thead th {\n",
       "        text-align: right;\n",
       "    }\n",
       "</style>\n",
       "<table border=\"1\" class=\"dataframe\">\n",
       "  <thead>\n",
       "    <tr style=\"text-align: right;\">\n",
       "      <th></th>\n",
       "      <th>hid</th>\n",
       "      <th>sent</th>\n",
       "      <th>corr</th>\n",
       "      <th>gen</th>\n",
       "      <th>score</th>\n",
       "      <th>match</th>\n",
       "    </tr>\n",
       "  </thead>\n",
       "  <tbody>\n",
       "    <tr>\n",
       "      <th>0</th>\n",
       "      <td>uiuo.ark+=13960=t1jh42q99</td>\n",
       "      <td>Come with me -- you shall see it ; '' and Mari...</td>\n",
       "      <td>&lt;blank&gt;</td>\n",
       "      <td>&lt;blank&gt;</td>\n",
       "      <td>0.999138</td>\n",
       "      <td>True</td>\n",
       "    </tr>\n",
       "    <tr>\n",
       "      <th>1</th>\n",
       "      <td>uc2.ark+=13960=t9r20tq61</td>\n",
       "      <td>The parish had been a college living , and its...</td>\n",
       "      <td>&lt;blank&gt;</td>\n",
       "      <td>&lt;blank&gt;</td>\n",
       "      <td>0.998571</td>\n",
       "      <td>True</td>\n",
       "    </tr>\n",
       "    <tr>\n",
       "      <th>2</th>\n",
       "      <td>uc2.ark+=13960=t3zs2vk6v</td>\n",
       "      <td>Having before my ej'es the uncomfortable prosp...</td>\n",
       "      <td>&lt;blank&gt;</td>\n",
       "      <td>&lt;blank&gt;</td>\n",
       "      <td>0.998369</td>\n",
       "      <td>True</td>\n",
       "    </tr>\n",
       "    <tr>\n",
       "      <th>3</th>\n",
       "      <td>nc01.ark+=13960=t3vt28h89</td>\n",
       "      <td>He spent three tedious , discouraging days in ...</td>\n",
       "      <td>the</td>\n",
       "      <td>the</td>\n",
       "      <td>0.998301</td>\n",
       "      <td>True</td>\n",
       "    </tr>\n",
       "    <tr>\n",
       "      <th>4</th>\n",
       "      <td>uc2.ark+=13960=t2c825v7x</td>\n",
       "      <td>fondly believed &lt;ocr&gt; d &lt;/ocr&gt; that she would ...</td>\n",
       "      <td>&lt;blank&gt;</td>\n",
       "      <td>&lt;blank&gt;</td>\n",
       "      <td>0.998963</td>\n",
       "      <td>True</td>\n",
       "    </tr>\n",
       "    <tr>\n",
       "      <th>...</th>\n",
       "      <td>...</td>\n",
       "      <td>...</td>\n",
       "      <td>...</td>\n",
       "      <td>...</td>\n",
       "      <td>...</td>\n",
       "      <td>...</td>\n",
       "    </tr>\n",
       "    <tr>\n",
       "      <th>21783</th>\n",
       "      <td>uc2.ark+=13960=t3zs2vk6v</td>\n",
       "      <td>This horn- he shall be free -- [ Exit Dunbar ....</td>\n",
       "      <td>Scene</td>\n",
       "      <td>SEXE</td>\n",
       "      <td>0.491575</td>\n",
       "      <td>False</td>\n",
       "    </tr>\n",
       "    <tr>\n",
       "      <th>21784</th>\n",
       "      <td>uc1.b3322643</td>\n",
       "      <td>You have never had cause to shrink from what i...</td>\n",
       "      <td>''</td>\n",
       "      <td>''</td>\n",
       "      <td>0.940410</td>\n",
       "      <td>True</td>\n",
       "    </tr>\n",
       "    <tr>\n",
       "      <th>21785</th>\n",
       "      <td>loc.ark+=13960=t89g5zd3x</td>\n",
       "      <td>Sipes and Saunders worked faithfully for sever...</td>\n",
       "      <td>&lt;blank&gt;</td>\n",
       "      <td>&lt;blank&gt;</td>\n",
       "      <td>0.998749</td>\n",
       "      <td>True</td>\n",
       "    </tr>\n",
       "    <tr>\n",
       "      <th>21786</th>\n",
       "      <td>nyp.33433074875513</td>\n",
       "      <td>`` Now what the deuce can be the meaning of th...</td>\n",
       "      <td>? ''</td>\n",
       "      <td>? ''</td>\n",
       "      <td>0.841173</td>\n",
       "      <td>True</td>\n",
       "    </tr>\n",
       "    <tr>\n",
       "      <th>21787</th>\n",
       "      <td>uc2.ark+=13960=t06w9fg91</td>\n",
       "      <td>The hundredodd &lt;ocr&gt; d &lt;/ocr&gt; men of the pione...</td>\n",
       "      <td>&lt;blank&gt;</td>\n",
       "      <td>&lt;blank&gt;</td>\n",
       "      <td>0.999302</td>\n",
       "      <td>True</td>\n",
       "    </tr>\n",
       "  </tbody>\n",
       "</table>\n",
       "<p>21788 rows × 6 columns</p>\n",
       "</div>"
      ],
      "text/plain": [
       "                             hid  \\\n",
       "0      uiuo.ark+=13960=t1jh42q99   \n",
       "1       uc2.ark+=13960=t9r20tq61   \n",
       "2       uc2.ark+=13960=t3zs2vk6v   \n",
       "3      nc01.ark+=13960=t3vt28h89   \n",
       "4       uc2.ark+=13960=t2c825v7x   \n",
       "...                          ...   \n",
       "21783   uc2.ark+=13960=t3zs2vk6v   \n",
       "21784               uc1.b3322643   \n",
       "21785   loc.ark+=13960=t89g5zd3x   \n",
       "21786         nyp.33433074875513   \n",
       "21787   uc2.ark+=13960=t06w9fg91   \n",
       "\n",
       "                                                    sent     corr      gen  \\\n",
       "0      Come with me -- you shall see it ; '' and Mari...  <blank>  <blank>   \n",
       "1      The parish had been a college living , and its...  <blank>  <blank>   \n",
       "2      Having before my ej'es the uncomfortable prosp...  <blank>  <blank>   \n",
       "3      He spent three tedious , discouraging days in ...      the      the   \n",
       "4      fondly believed <ocr> d </ocr> that she would ...  <blank>  <blank>   \n",
       "...                                                  ...      ...      ...   \n",
       "21783  This horn- he shall be free -- [ Exit Dunbar ....    Scene     SEXE   \n",
       "21784  You have never had cause to shrink from what i...       ''       ''   \n",
       "21785  Sipes and Saunders worked faithfully for sever...  <blank>  <blank>   \n",
       "21786  `` Now what the deuce can be the meaning of th...     ? ''     ? ''   \n",
       "21787  The hundredodd <ocr> d </ocr> men of the pione...  <blank>  <blank>   \n",
       "\n",
       "          score  match  \n",
       "0      0.999138   True  \n",
       "1      0.998571   True  \n",
       "2      0.998369   True  \n",
       "3      0.998301   True  \n",
       "4      0.998963   True  \n",
       "...         ...    ...  \n",
       "21783  0.491575  False  \n",
       "21784  0.940410   True  \n",
       "21785  0.998749   True  \n",
       "21786  0.841173   True  \n",
       "21787  0.999302   True  \n",
       "\n",
       "[21788 rows x 6 columns]"
      ]
     },
     "execution_count": 130,
     "metadata": {},
     "output_type": "execute_result"
    }
   ],
   "source": [
    "df"
   ]
  },
  {
   "cell_type": "code",
   "execution_count": 143,
   "id": "03b52936",
   "metadata": {},
   "outputs": [],
   "source": [
    "x = []\n",
    "y = []\n",
    "for book_id in all_ids:\n",
    "    book_data = df[df['hid']==book_id]\n",
    "    cutoff_df = book_data[book_data['score'] > 0.7]\n",
    "    y.append(len(cutoff_df) - len(cutoff_df[cutoff_df['match']]))\n",
    "    x.append(len(cutoff_df[cutoff_df['match']]))"
   ]
  },
  {
   "cell_type": "code",
   "execution_count": 150,
   "id": "2a7a1468",
   "metadata": {},
   "outputs": [
    {
     "data": {
      "text/plain": [
       "<matplotlib.collections.PathCollection at 0x7fc567da91c0>"
      ]
     },
     "execution_count": 150,
     "metadata": {},
     "output_type": "execute_result"
    },
    {
     "data": {
      "image/png": "[encoded data removed]",
      "text/plain": [
       "<Figure size 432x288 with 1 Axes>"
      ]
     },
     "metadata": {
      "needs_background": "light"
     },
     "output_type": "display_data"
    }
   ],
   "source": [
    "plt.xlabel('True Positive')\n",
    "plt.ylabel('False Positive')\n",
    "plt.xlim(-1, 50)\n",
    "plt.ylim(-1, 50)\n",
    "plt.plot([0,100],[0,100])\n",
    "plt.scatter(x,y,s=5,alpha=0.5)"
   ]
  },
  {
   "cell_type": "code",
   "execution_count": null,
   "id": "5e72c0e4",
   "metadata": {},
   "outputs": [],
   "source": []
  }
 ],
 "metadata": {
  "kernelspec": {
   "display_name": "Python 3",
   "language": "python",
   "name": "python3"
  },
  "language_info": {
   "codemirror_mode": {
    "name": "ipython",
    "version": 3
   },
   "file_extension": ".py",
   "mimetype": "text/x-python",
   "name": "python",
   "nbconvert_exporter": "python",
   "pygments_lexer": "ipython3",
   "version": "3.8.5"
  }
 },
 "nbformat": 4,
 "nbformat_minor": 5
}
