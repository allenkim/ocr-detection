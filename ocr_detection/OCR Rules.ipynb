{
 "cells": [
  {
   "cell_type": "code",
   "execution_count": 23,
   "id": "6f108f06",
   "metadata": {},
   "outputs": [],
   "source": [
    "from pathlib import Path\n",
    "import pandas as pd\n",
    "from collections import Counter"
   ]
  },
  {
   "cell_type": "code",
   "execution_count": 8,
   "id": "8c7a16f6",
   "metadata": {},
   "outputs": [],
   "source": [
    "ocr_data_path = list(Path(\"/home/allekim/stonybook-data/hathi/ocr_model_results/double_books/\").glob('*'))"
   ]
  },
  {
   "cell_type": "code",
   "execution_count": 28,
   "id": "10951e9c",
   "metadata": {},
   "outputs": [],
   "source": [
    "def generate_examples(row):\n",
    "    loss1, loss2 = row['loss1'], row['loss2']\n",
    "    diff1, diff2 = row['diff1'], row['diff2']\n",
    "    ctx1, ctx2 = row['ctx1'], row['ctx2']\n",
    "    ocr1, ocr2 = tuple(ctx1[diff1[0]:diff1[1]]), tuple(ctx2[diff2[0]:diff2[1]])\n",
    "    if loss1 < loss2:\n",
    "        return (ocr2, ocr1)\n",
    "    else:\n",
    "        return (ocr1, ocr2)"
   ]
  },
  {
   "cell_type": "code",
   "execution_count": 29,
   "id": "3d69b9ac",
   "metadata": {},
   "outputs": [],
   "source": [
    "df = pd.read_csv(ocr_data_path[0], converters={'ctx1': eval, 'ctx2': eval, 'diff1': eval, 'diff2': eval})"
   ]
  },
  {
   "cell_type": "code",
   "execution_count": 30,
   "id": "cb2fe40e",
   "metadata": {},
   "outputs": [],
   "source": [
    "ocr_pairs = df.apply(generate_examples, axis=1)"
   ]
  },
  {
   "cell_type": "code",
   "execution_count": 31,
   "id": "aca391bb",
   "metadata": {},
   "outputs": [],
   "source": [
    "c = Counter()"
   ]
  },
  {
   "cell_type": "code",
   "execution_count": 32,
   "id": "28ef03de",
   "metadata": {},
   "outputs": [
    {
     "data": {
      "text/plain": [
       "[(('Waldo', 'Lee', 'McAtee', 'Published'), ('Pubiished',)),\n",
       " (('oflF',), ('off',)),\n",
       " (('ril',), ('I', \"'ll\")),\n",
       " (('In',), ('in',)),\n",
       " (('efl^ective',), ('effective',)),\n",
       " (('gi^yen',), ('given',)),\n",
       " (('agam',), ('again',)),\n",
       " (('i\\\\lthough',), ('Although',)),\n",
       " (('rU',), ('I', \"'ll\")),\n",
       " (('rifi^e',), ('riffle',)),\n",
       " (('riffle',), ('rifile',))]"
      ]
     },
     "execution_count": 32,
     "metadata": {},
     "output_type": "execute_result"
    }
   ],
   "source": [
    "list(ocr_pairs)"
   ]
  },
  {
   "cell_type": "code",
   "execution_count": 33,
   "id": "cde83061",
   "metadata": {},
   "outputs": [],
   "source": [
    "c.update(ocr_pairs)"
   ]
  },
  {
   "cell_type": "code",
   "execution_count": 34,
   "id": "c8182862",
   "metadata": {},
   "outputs": [
    {
     "data": {
      "text/plain": [
       "Counter({(('Waldo', 'Lee', 'McAtee', 'Published'), ('Pubiished',)): 1,\n",
       "         (('oflF',), ('off',)): 1,\n",
       "         (('ril',), ('I', \"'ll\")): 1,\n",
       "         (('In',), ('in',)): 1,\n",
       "         (('efl^ective',), ('effective',)): 1,\n",
       "         (('gi^yen',), ('given',)): 1,\n",
       "         (('agam',), ('again',)): 1,\n",
       "         (('i\\\\lthough',), ('Although',)): 1,\n",
       "         (('rU',), ('I', \"'ll\")): 1,\n",
       "         (('rifi^e',), ('riffle',)): 1,\n",
       "         (('riffle',), ('rifile',)): 1})"
      ]
     },
     "execution_count": 34,
     "metadata": {},
     "output_type": "execute_result"
    }
   ],
   "source": [
    "c"
   ]
  },
  {
   "cell_type": "code",
   "execution_count": null,
   "id": "9bb74fe8",
   "metadata": {},
   "outputs": [],
   "source": []
  }
 ],
 "metadata": {
  "kernelspec": {
   "display_name": "Python 3",
   "language": "python",
   "name": "python3"
  },
  "language_info": {
   "codemirror_mode": {
    "name": "ipython",
    "version": 3
   },
   "file_extension": ".py",
   "mimetype": "text/x-python",
   "name": "python",
   "nbconvert_exporter": "python",
   "pygments_lexer": "ipython3",
   "version": "3.8.5"
  }
 },
 "nbformat": 4,
 "nbformat_minor": 5
}
