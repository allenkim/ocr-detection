{
 "cells": [
  {
   "cell_type": "code",
   "execution_count": 1,
   "id": "0a4d2e3e",
   "metadata": {},
   "outputs": [],
   "source": [
    "from pathlib import Path\n",
    "from multiprocessing import Pool\n",
    "from tqdm import tqdm\n",
    "import pandas as pd\n",
    "import torch\n",
    "from scipy.special import softmax\n",
    "from collections import defaultdict\n",
    "import numpy as np\n",
    "import pickle"
   ]
  },
  {
   "cell_type": "code",
   "execution_count": 2,
   "id": "3e9b6667",
   "metadata": {},
   "outputs": [],
   "source": [
    "book_paths = Path('/home/allekim/stonybook-data/guten_hathi_alignment/')"
   ]
  },
  {
   "cell_type": "code",
   "execution_count": 3,
   "id": "8699d98b",
   "metadata": {},
   "outputs": [],
   "source": [
    "parsed_book_results_paths = list(book_paths.glob('*/*_hathi_batched_results.dt'))"
   ]
  },
  {
   "cell_type": "code",
   "execution_count": 4,
   "id": "ee4ffb72",
   "metadata": {},
   "outputs": [
    {
     "data": {
      "text/plain": [
       "2975"
      ]
     },
     "execution_count": 4,
     "metadata": {},
     "output_type": "execute_result"
    }
   ],
   "source": [
    "len(parsed_book_results_paths)"
   ]
  },
  {
   "cell_type": "code",
   "execution_count": 5,
   "id": "b92e0423",
   "metadata": {},
   "outputs": [],
   "source": [
    "def map_subtok_to_tok_idx(offsets):\n",
    "    idx_mapping = []\n",
    "    tok_num = -1\n",
    "    for idx, pair in enumerate(offsets):\n",
    "        s, e = pair\n",
    "        if e == 0:\n",
    "            continue\n",
    "        if s == 1:\n",
    "            tok_num += 1\n",
    "        idx_mapping.append(tok_num)\n",
    "    return idx_mapping"
   ]
  },
  {
   "cell_type": "code",
   "execution_count": 6,
   "id": "08762f17",
   "metadata": {},
   "outputs": [],
   "source": [
    "def score_book(result_path):\n",
    "    output_path = result_path.parent / 'ocr_batched_detection_results.pkl'\n",
    "    if output_path.exists():\n",
    "        return\n",
    "    hathi_id = result_path.stem.split('_')[0]\n",
    "    input_path = result_path.parent / '{}_hathi_input.dt'.format(hathi_id)\n",
    "    aligned_df = pd.read_csv(result_path.parent / 'aligned_toks.csv', converters={'sent_idx2':eval})\n",
    "    inputs = torch.load(input_path)\n",
    "    results = torch.load(result_path)\n",
    "    bad_sents = set()\n",
    "    for x, y in aligned_df['sent_idx2']:\n",
    "        if y - x > 1:\n",
    "            continue\n",
    "        bad_sents.add(x)\n",
    "        bad_sents.add(y)\n",
    "    preda = softmax(results, axis=-1)\n",
    "\n",
    "    num_errors = 0\n",
    "    thresholds = [0.8,0.9,0.95,0.99]\n",
    "    bad_sent_caught = defaultdict(set)\n",
    "    for idx in range(len(inputs)):\n",
    "        mask = np.where(np.array(inputs[idx]['attention_mask']) == 1)\n",
    "        input_ids = np.array(inputs[idx]['input_ids'])[mask][1:-1]\n",
    "        offsets = np.array(inputs[idx]['offset_mapping'])[mask]\n",
    "        subtok_to_tok = np.array(map_subtok_to_tok_idx(offsets))\n",
    "        preds = np.array(preda[idx])[mask][1:-1]\n",
    "        for thres in thresholds:\n",
    "            pos_idx = np.where(preds[:,1] > thres)[0]\n",
    "            if len(pos_idx) > 0:\n",
    "                bad_sent_caught[thres].add(idx)\n",
    "    #     pred = np.zeros(len(preds))\n",
    "    #     pred[pos_idx] = 1\n",
    "    #     if 1 in pred:\n",
    "    #         bad_sent_caught.add(idx)\n",
    "    #         pred_mask = np.where(pred==1)\n",
    "    #         indices = subtok_to_tok[pred_mask]\n",
    "    #         ocr_toks = np.array(inputs[idx]['sent'])[indices]\n",
    "    #         print(inputs[idx]['sent'])\n",
    "    #         print(confidence[idx][pred_mask])\n",
    "    #         print(ocr_toks)\n",
    "    #         print()\n",
    "#             num_errors += 1\n",
    "    inp_len = len(inputs)\n",
    "    bsents = len(bad_sents)\n",
    "    threshold_results = {}\n",
    "    for thres in thresholds:\n",
    "        intersection = bad_sent_caught[thres] & bad_sents\n",
    "        threshold_results[thres] = (len(bad_sent_caught[thres]), len(intersection))\n",
    "    results = inp_len, bsents, threshold_results\n",
    "    with open(output_path, 'wb') as f:\n",
    "        pickle.dump(results, f, 4)\n",
    "    return results"
   ]
  },
  {
   "cell_type": "code",
   "execution_count": 7,
   "id": "28dccc47",
   "metadata": {},
   "outputs": [
    {
     "name": "stderr",
     "output_type": "stream",
     "text": [
      "100%|██████████| 2975/2975 [1:28:55<00:00,  1.79s/it]  \n"
     ]
    }
   ],
   "source": [
    "with Pool(30) as p:\n",
    "    list(tqdm(p.imap_unordered(score_book, parsed_book_results_paths), total=len(parsed_book_results_paths)))"
   ]
  },
  {
   "cell_type": "code",
   "execution_count": null,
   "id": "0021afb5",
   "metadata": {},
   "outputs": [],
   "source": []
  }
 ],
 "metadata": {
  "kernelspec": {
   "display_name": "Python 3",
   "language": "python",
   "name": "python3"
  },
  "language_info": {
   "codemirror_mode": {
    "name": "ipython",
    "version": 3
   },
   "file_extension": ".py",
   "mimetype": "text/x-python",
   "name": "python",
   "nbconvert_exporter": "python",
   "pygments_lexer": "ipython3",
   "version": "3.8.5"
  }
 },
 "nbformat": 4,
 "nbformat_minor": 5
}
